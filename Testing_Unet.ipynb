{
  "nbformat": 4,
  "nbformat_minor": 0,
  "metadata": {
    "colab": {
      "private_outputs": true,
      "provenance": []
    },
    "kernelspec": {
      "name": "python3",
      "display_name": "Python 3"
    },
    "language_info": {
      "name": "python"
    }
  },
  "cells": [
    {
      "cell_type": "markdown",
      "source": [
        "Load Trained Weights"
      ],
      "metadata": {
        "id": "PCU1re68groS"
      }
    },
    {
      "cell_type": "code",
      "source": [
        "model.load_weights('model.weights.h5')"
      ],
      "metadata": {
        "id": "qoJZ7ADRgsNi"
      },
      "execution_count": null,
      "outputs": []
    },
    {
      "cell_type": "markdown",
      "source": [
        "Visualize Predictions"
      ],
      "metadata": {
        "id": "omj34hxgg4SS"
      }
    },
    {
      "cell_type": "code",
      "source": [
        "import matplotlib.pyplot as plt\n",
        "import numpy as np\n",
        "\n",
        "fig, ax = plt.subplots(5,3, figsize=(10,18))\n",
        "j = np.random.randint(0, X_test.shape[0], 5)\n",
        "for i in range(5):\n",
        "    ax[i,0].imshow(X_test[j[i]], cmap='gray')\n",
        "    ax[i,1].imshow(y_test[j[i]], cmap='gray')\n",
        "    ax[i,0].set_title('Image')\n",
        "    ax[i,1].set_title('Mask')\n",
        "    ax[i,2].imshow(model.predict(np.expand_dims(X_test[j[i]],0),verbose=0)[0], cmap='gray')\n",
        "    ax[i,2].set_title('Prediction')\n",
        "fig.suptitle('Results', fontsize=16)\n",
        "plt.show()"
      ],
      "metadata": {
        "id": "beBrjE19g40B"
      },
      "execution_count": null,
      "outputs": []
    },
    {
      "cell_type": "markdown",
      "source": [
        "Plot ROC Curve"
      ],
      "metadata": {
        "id": "YS2C-orSg8xy"
      }
    },
    {
      "cell_type": "code",
      "source": [
        "from sklearn.metrics import roc_curve, auc\n",
        "\n",
        "idx = np.random.randint(0, X_test.shape[0])\n",
        "image = X_test[idx]\n",
        "true_mask = y_test[idx]\n",
        "pred_mask = model.predict(np.expand_dims(image, 0), verbose=0)[0]\n",
        "\n",
        "y_true_flat = true_mask.flatten()\n",
        "y_pred_flat = pred_mask.flatten()\n",
        "\n",
        "fpr, tpr, _ = roc_curve((y_true_flat > 0.5).astype(int), y_pred_flat)\n",
        "roc_auc = auc(fpr, tpr)\n",
        "\n",
        "fig, ax = plt.subplots(1, 4, figsize=(18, 4))\n",
        "\n",
        "ax[0].imshow(image.squeeze(), cmap='gray')\n",
        "ax[0].set_title('Input Image')\n",
        "ax[0].axis('off')\n",
        "\n",
        "ax[1].imshow(true_mask.squeeze(), cmap='gray')\n",
        "ax[1].set_title('Ground Truth Mask')\n",
        "ax[1].axis('off')\n",
        "\n",
        "ax[2].imshow(pred_mask.squeeze(), cmap='gray')\n",
        "ax[2].set_title('Predicted Mask')\n",
        "ax[2].axis('off')\n",
        "\n",
        "ax[3].plot(fpr, tpr, color='darkorange', lw=2, label=f'AUC = {roc_auc:.3f}')\n",
        "ax[3].plot([0, 1], [0, 1], color='navy', lw=2, linestyle='--')\n",
        "ax[3].set_xlim([0.0, 1.0])\n",
        "ax[3].set_ylim([0.0, 1.05])\n",
        "ax[3].set_xlabel('False Positive Rate')\n",
        "ax[3].set_ylabel('True Positive Rate')\n",
        "ax[3].set_title('ROC Curve')\n",
        "ax[3].legend(loc='lower right')\n",
        "ax[3].grid(True)\n",
        "\n",
        "plt.tight_layout()\n",
        "plt.show()"
      ],
      "metadata": {
        "id": "Zh1IJqwMg9Zi"
      },
      "execution_count": null,
      "outputs": []
    },
    {
      "cell_type": "markdown",
      "source": [
        "Plot Confusion Matrix"
      ],
      "metadata": {
        "id": "LXVj5Ik0hAhK"
      }
    },
    {
      "cell_type": "code",
      "source": [
        "from sklearn.metrics import confusion_matrix, ConfusionMatrixDisplay\n",
        "\n",
        "# Use previously predicted masks and threshold\n",
        "# (ensure y_pred_thresholded is calculated before this)\n",
        "\n",
        "y_true_flat = (y_test > 0.5).astype(int).flatten()\n",
        "y_pred_flat = y_pred_thresholded.astype(int).flatten()\n",
        "\n",
        "cm = confusion_matrix(y_true_flat, y_pred_flat)\n",
        "disp = ConfusionMatrixDisplay(confusion_matrix=cm, display_labels=[0, 1])\n",
        "\n",
        "plt.figure(figsize=(5, 4))\n",
        "disp.plot(cmap='Blues', values_format='d')\n",
        "plt.title('Confusion Matrix')\n",
        "plt.grid(False)\n",
        "plt.show()"
      ],
      "metadata": {
        "id": "URlxhfBjhF1B"
      },
      "execution_count": null,
      "outputs": []
    },
    {
      "cell_type": "markdown",
      "source": [
        "Calculate and Display Evaluation Metrics"
      ],
      "metadata": {
        "id": "BWZ2_ki1hJp8"
      }
    },
    {
      "cell_type": "code",
      "source": [
        "from keras.metrics import MeanIoU, Precision, Recall\n",
        "import pandas as pd\n",
        "\n",
        "# Predictions\n",
        "y_pred = model.predict(X_test, verbose=0)\n",
        "y_pred_thresholded = y_pred > 0.5\n",
        "\n",
        "# Metrics\n",
        "IOU_keras = MeanIoU(num_classes=2)\n",
        "IOU_keras.update_state(y_test, y_pred_thresholded)\n",
        "iou = IOU_keras.result().numpy()\n",
        "\n",
        "prec_score = Precision()\n",
        "prec_score.update_state(y_test, y_pred_thresholded)\n",
        "precision = prec_score.result().numpy()\n",
        "\n",
        "recall_score = Recall()\n",
        "recall_score.update_state(y_test, y_pred_thresholded)\n",
        "recall = recall_score.result().numpy()\n",
        "\n",
        "f1 = 2 * (precision * recall) / (precision + recall)\n",
        "\n",
        "df = pd.DataFrame({\n",
        "    'Metric': ['Mean IoU', 'Precision', 'Recall', 'F1 Score'],\n",
        "    'Score': [iou, precision, recall, f1]\n",
        "})\n",
        "\n",
        "print('\\033[96m' + '\\nEvaluation Metrics:\\n')\n",
        "print(df.to_string(index=False, formatters={'Score': '{:.3f}'.format}))"
      ],
      "metadata": {
        "id": "XLfjhSwohKOh"
      },
      "execution_count": null,
      "outputs": []
    }
  ]
}