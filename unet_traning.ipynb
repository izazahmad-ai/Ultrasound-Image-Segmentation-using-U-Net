{
  "nbformat": 4,
  "nbformat_minor": 0,
  "metadata": {
    "colab": {
      "private_outputs": true,
      "provenance": []
    },
    "kernelspec": {
      "name": "python3",
      "display_name": "Python 3"
    },
    "language_info": {
      "name": "python"
    }
  },
  "cells": [
    {
      "cell_type": "markdown",
      "source": [
        "Import Required Libraries"
      ],
      "metadata": {
        "id": "NCY1-bYGdMLi"
      }
    },
    {
      "cell_type": "code",
      "execution_count": null,
      "metadata": {
        "id": "ClriNuQucnmL"
      },
      "outputs": [],
      "source": [
        "import tensorflow as tf\n",
        "from glob import glob\n",
        "import numpy as np\n",
        "from sklearn.model_selection import train_test_split\n",
        "import cv2\n",
        "import matplotlib.pyplot as plt\n",
        "from keras.models import Model\n",
        "from keras.layers import Input, Conv2D, MaxPooling2D, Conv2DTranspose, concatenate\n",
        "from keras.optimizers import Adam\n",
        "from tensorflow.keras.metrics import *\n",
        "import kagglehub\n",
        "from glob import glob\n",
        "import os"
      ]
    },
    {
      "cell_type": "markdown",
      "source": [
        "Download Dataset from KaggleHub"
      ],
      "metadata": {
        "id": "wYNWfeI0dA36"
      }
    },
    {
      "cell_type": "code",
      "source": [
        "dataset_dir = kagglehub.dataset_download('aryashah2k/breast-ultrasound-images-dataset')\n",
        "print(\"Dataset downloaded to:\", dataset_dir)"
      ],
      "metadata": {
        "id": "v4EKogbFdB_T"
      },
      "execution_count": null,
      "outputs": []
    },
    {
      "cell_type": "markdown",
      "source": [
        "Load Dataset Paths"
      ],
      "metadata": {
        "id": "teUqXkpLdGCq"
      }
    },
    {
      "cell_type": "code",
      "source": [
        "dataset_dir = r\"C:\\Users\\info\\.cache\\kagglehub\\datasets\\aryashah2k\\breast-ultrasound-images-dataset\\versions\\1\\Dataset_BUSI_with_GT\"\n",
        "paths = glob(os.path.join(dataset_dir, \"*\", \"*\"))"
      ],
      "metadata": {
        "id": "qikDSkgcdHdS"
      },
      "execution_count": null,
      "outputs": []
    },
    {
      "cell_type": "markdown",
      "source": [
        "Check Image and Mask Counts"
      ],
      "metadata": {
        "id": "qRSmYW07dTeb"
      }
    },
    {
      "cell_type": "code",
      "source": [
        "dataset_dir = \"C:/Users/info/.cache/kagglehub/datasets/aryashah2k/breast-ultrasound-images-dataset/versions/1/Dataset_BUSI_with_GT\"\n",
        "paths = glob(os.path.join(dataset_dir, \"*\", \"*\"))\n",
        "\n",
        "print('\\033[92m')\n",
        "print(f\"'normal' class has {len([i for i in paths if 'normal' in i and 'mask' not in i])} images and {len([i for i in paths if 'normal' in i and 'mask' in i])} masks.\")\n",
        "print(f\"'benign' class has {len([i for i in paths if 'benign' in i and 'mask' not in i])} images and {len([i for i in paths if 'benign' in i and 'mask' in i])} masks.\")\n",
        "print(f\"'malignant' class has {len([i for i in paths if 'malignant' in i and 'mask' not in i])} images and {len([i for i in paths if 'malignant' in i and 'mask' in i])} masks.\")\n",
        "print(f\"\\nTotal: {len([i for i in paths if 'mask' not in i])} images and {len([i for i in paths if 'mask' in i])} masks.\")\n"
      ],
      "metadata": {
        "id": "rLpGnvJ2dOuD"
      },
      "execution_count": null,
      "outputs": []
    },
    {
      "cell_type": "markdown",
      "source": [
        "View Sample Paths"
      ],
      "metadata": {
        "id": "E4QTqqvYddoK"
      }
    },
    {
      "cell_type": "code",
      "source": [
        "sample_paths = sorted(glob(os.path.join(dataset_dir, \"benign\", \"*\")))[4:7]\n",
        "for path in sample_paths:\n",
        "    print(path)"
      ],
      "metadata": {
        "id": "5W6koNawdhNB"
      },
      "execution_count": null,
      "outputs": []
    },
    {
      "cell_type": "markdown",
      "source": [
        " Define Helper Functions for Loading Data"
      ],
      "metadata": {
        "id": "Dnfr0wmVdrPj"
      }
    },
    {
      "cell_type": "code",
      "source": [
        "def load_image(path, size):\n",
        "    image = cv2.imread(path)\n",
        "    image = cv2.resize(image, (size, size))\n",
        "    image = cv2.cvtColor(image, cv2.COLOR_RGB2GRAY)\n",
        "    image = image / 255.0\n",
        "    return image"
      ],
      "metadata": {
        "id": "Hidp--27dr4S"
      },
      "execution_count": null,
      "outputs": []
    },
    {
      "cell_type": "code",
      "source": [
        "def load_data(root_path_glob, size):\n",
        "    images = []\n",
        "    masks = []\n",
        "    x = 0\n",
        "    for path in sorted(glob(root_path_glob)):\n",
        "        img = load_image(path, size)\n",
        "        if 'mask' in path:\n",
        "            if x:\n",
        "                masks[-1] += img\n",
        "                masks[-1] = np.array(masks[-1] > 0.5, dtype='float64')\n",
        "            else:\n",
        "                masks.append(img)\n",
        "                x = 1\n",
        "        else:\n",
        "            images.append(img)\n",
        "            x = 0\n",
        "    return np.array(images), np.array(masks)"
      ],
      "metadata": {
        "id": "zSSVY2wjdwAq"
      },
      "execution_count": null,
      "outputs": []
    },
    {
      "cell_type": "markdown",
      "source": [
        "Load Images and Masks"
      ],
      "metadata": {
        "id": "1_844t-6dzei"
      }
    },
    {
      "cell_type": "code",
      "source": [
        "size = 128\n",
        "dataset_glob_path = \"C:/Users/info/.cache/kagglehub/datasets/aryashah2k/breast-ultrasound-images-dataset/versions/1/Dataset_BUSI_with_GT/*/*\"\n",
        "X, y = load_data(root_path_glob=dataset_glob_path, size=size)\n"
      ],
      "metadata": {
        "id": "2cGgD4ptd0GB"
      },
      "execution_count": null,
      "outputs": []
    },
    {
      "cell_type": "markdown",
      "source": [
        "Visualize Random Sample - Normal Class"
      ],
      "metadata": {
        "id": "7MK4jwotd2PB"
      }
    },
    {
      "cell_type": "code",
      "source": [
        "fig, ax = plt.subplots(1,3, figsize=(10,5))\n",
        "i = np.random.randint(647,780)\n",
        "ax[0].imshow(X[i], cmap='gray')\n",
        "ax[0].set_title('Image')\n",
        "ax[1].imshow(y[i], cmap='gray')\n",
        "ax[1].set_title('Mask')\n",
        "ax[2].imshow(X[i], cmap='gray')\n",
        "ax[2].imshow(tf.squeeze(y[i]), alpha=0.5, cmap='jet')\n",
        "ax[2].set_title('Union')\n",
        "fig.suptitle('Normal class', fontsize=16)\n",
        "plt.show()"
      ],
      "metadata": {
        "id": "Oomtb_sld4lB"
      },
      "execution_count": null,
      "outputs": []
    },
    {
      "cell_type": "markdown",
      "source": [
        "Visualize Random Sample - Benign Class"
      ],
      "metadata": {
        "id": "ROD4s817d8s6"
      }
    },
    {
      "cell_type": "code",
      "source": [
        "fig, ax = plt.subplots(1,3, figsize=(10,5))\n",
        "i = np.random.randint(437)\n",
        "ax[0].imshow(X[i], cmap='gray')\n",
        "ax[0].set_title('Image')\n",
        "ax[1].imshow(y[i], cmap='gray')\n",
        "ax[1].set_title('Mask')\n",
        "ax[2].imshow(X[i], cmap='gray')\n",
        "ax[2].set_title('Union')\n",
        "ax[2].imshow(tf.squeeze(y[i]), alpha=0.5, cmap='jet')\n",
        "fig.suptitle('Benign class', fontsize=16)\n",
        "plt.show()"
      ],
      "metadata": {
        "id": "nIfGuL3xd9Mx"
      },
      "execution_count": null,
      "outputs": []
    },
    {
      "cell_type": "markdown",
      "source": [
        "Visualize Random Sample - Malignant Class"
      ],
      "metadata": {
        "id": "NdRY1Z4eeA1K"
      }
    },
    {
      "cell_type": "code",
      "source": [
        "fig, ax = plt.subplots(1,3, figsize=(10,5))\n",
        "i = np.random.randint(437,647)\n",
        "ax[0].imshow(X[i], cmap='gray')\n",
        "ax[0].set_title('Image')\n",
        "ax[1].imshow(y[i], cmap='gray')\n",
        "ax[1].set_title('Mask')\n",
        "ax[2].imshow(X[i], cmap='gray')\n",
        "ax[2].imshow(tf.squeeze(y[i]), alpha=0.5, cmap='jet')\n",
        "ax[2].set_title('Union')\n",
        "fig.suptitle('Malignant class', fontsize=16)\n",
        "plt.show()"
      ],
      "metadata": {
        "id": "_qUPHgjoeBRi"
      },
      "execution_count": null,
      "outputs": []
    },
    {
      "cell_type": "markdown",
      "source": [
        "Visualize Combined Masks for Each Class"
      ],
      "metadata": {
        "id": "2u1feZVBeFCz"
      }
    },
    {
      "cell_type": "code",
      "source": [
        "fig, ax = plt.subplots(1,3, figsize=(10,5))\n",
        "ax[0].imshow(sum(y[647:]), cmap='gray')\n",
        "ax[0].set_title('Normal')\n",
        "ax[1].imshow(sum(y[:437]), cmap='gray')\n",
        "ax[1].set_title('Benign')\n",
        "ax[2].imshow(sum(y[437:647]), cmap='gray')\n",
        "ax[2].set_title('Malignant')\n",
        "plt.show()"
      ],
      "metadata": {
        "id": "UTFcQT6heFnh"
      },
      "execution_count": null,
      "outputs": []
    },
    {
      "cell_type": "markdown",
      "source": [
        "Drop Normal Class and Prepare Data"
      ],
      "metadata": {
        "id": "53YiyDDdeJDi"
      }
    },
    {
      "cell_type": "code",
      "source": [
        "X = X[:647]\n",
        "y = y[:647]\n",
        "print(f\"X shape: {X.shape}     |  y shape: {y.shape}\")\n",
        "X = np.expand_dims(X, -1)\n",
        "y = np.expand_dims(y, -1)\n",
        "print(f\"\\nX shape: {X.shape}  |  y shape: {y.shape}\")"
      ],
      "metadata": {
        "id": "0Jeo8YAkeJiC"
      },
      "execution_count": null,
      "outputs": []
    },
    {
      "cell_type": "markdown",
      "source": [
        "Split into Train and Test Sets"
      ],
      "metadata": {
        "id": "TjO1u-X9eNNC"
      }
    },
    {
      "cell_type": "code",
      "source": [
        "X_train, X_test, y_train, y_test = train_test_split(X, y, test_size=0.1)\n",
        "print('\\033[92m')\n",
        "print('X_train shape:',X_train.shape)\n",
        "print('y_train shape:',y_train.shape)\n",
        "print('X_test shape:',X_test.shape)\n",
        "print('y_test shape:',y_test.shape)"
      ],
      "metadata": {
        "id": "KolaRqVxeNvS"
      },
      "execution_count": null,
      "outputs": []
    },
    {
      "cell_type": "markdown",
      "source": [
        "Define Convolution Block"
      ],
      "metadata": {
        "id": "JOwIOjnDeRIi"
      }
    },
    {
      "cell_type": "code",
      "source": [
        "def conv_block(input, num_filters):\n",
        "    conv = Conv2D(num_filters, (3, 3), activation=\"relu\", padding=\"same\", kernel_initializer='he_normal')(input)\n",
        "    conv = Conv2D(num_filters, (3, 3), activation=\"relu\", padding=\"same\", kernel_initializer='he_normal')(conv)\n",
        "    return conv"
      ],
      "metadata": {
        "id": "s6Jv9iSyeRvi"
      },
      "execution_count": null,
      "outputs": []
    },
    {
      "cell_type": "markdown",
      "source": [
        "Define Encoder Block"
      ],
      "metadata": {
        "id": "9mA_oZlJeUdx"
      }
    },
    {
      "cell_type": "code",
      "source": [
        "def encoder_block(input, num_filters):\n",
        "    conv = conv_block(input, num_filters)\n",
        "    pool = MaxPooling2D((2, 2))(conv)\n",
        "    return conv, pool"
      ],
      "metadata": {
        "id": "JitVj5NXeU_C"
      },
      "execution_count": null,
      "outputs": []
    },
    {
      "cell_type": "markdown",
      "source": [
        "Define Decoder Block"
      ],
      "metadata": {
        "id": "3yLaL_PeeY9a"
      }
    },
    {
      "cell_type": "code",
      "source": [
        "def decoder_block(input, skip_features, num_filters):\n",
        "    uconv = Conv2DTranspose(num_filters, (2, 2), strides=2, padding=\"same\")(input)\n",
        "    con = concatenate([uconv, skip_features])\n",
        "    conv = conv_block(con, num_filters)\n",
        "    return conv"
      ],
      "metadata": {
        "id": "c8KEHtIAeZax"
      },
      "execution_count": null,
      "outputs": []
    },
    {
      "cell_type": "markdown",
      "source": [
        "Build U-Net Model"
      ],
      "metadata": {
        "id": "q3Ol7fzHebyi"
      }
    },
    {
      "cell_type": "code",
      "source": [
        "def build_model(input_shape):\n",
        "    input_layer = Input(input_shape)\n",
        "    s1, p1 = encoder_block(input_layer, 64)\n",
        "    s2, p2 = encoder_block(p1, 128)\n",
        "    s3, p3 = encoder_block(p2, 256)\n",
        "    s4, p4 = encoder_block(p3, 512)\n",
        "    b1 = conv_block(p4, 1024)\n",
        "    d1 = decoder_block(b1, s4, 512)\n",
        "    d2 = decoder_block(d1, s3, 256)\n",
        "    d3 = decoder_block(d2, s2, 128)\n",
        "    d4 = decoder_block(d3, s1, 64)\n",
        "    output_layer = Conv2D(1, 1, padding=\"same\", activation=\"sigmoid\")(d4)\n",
        "    model = Model(input_layer, output_layer, name=\"U-Net\")\n",
        "    return model\n",
        "\n",
        "model = build_model(input_shape=(size, size, 1))\n",
        "model.compile(loss=\"binary_crossentropy\", optimizer=\"Adam\", metrics=[\"accuracy\"])\n"
      ],
      "metadata": {
        "id": "FzheidkQecMi"
      },
      "execution_count": null,
      "outputs": []
    },
    {
      "cell_type": "markdown",
      "source": [
        "Plot U-Net Model Architecture"
      ],
      "metadata": {
        "id": "e6VhumbFeg4x"
      }
    },
    {
      "cell_type": "code",
      "source": [
        "tf.keras.utils.plot_model(model, show_shapes=True)"
      ],
      "metadata": {
        "id": "2eX_Z0DEehYy"
      },
      "execution_count": null,
      "outputs": []
    },
    {
      "cell_type": "markdown",
      "source": [
        "Show Model Summary"
      ],
      "metadata": {
        "id": "BxN0gzPUekrq"
      }
    },
    {
      "cell_type": "code",
      "source": [
        "model.summary()"
      ],
      "metadata": {
        "id": "jWOECBLQelGi"
      },
      "execution_count": null,
      "outputs": []
    },
    {
      "cell_type": "markdown",
      "source": [
        "Train the Model"
      ],
      "metadata": {
        "id": "C2DZaV-5en8C"
      }
    },
    {
      "cell_type": "code",
      "source": [
        "history = model.fit(X_train, y_train, epochs = 100, validation_data = (X_test,y_test))"
      ],
      "metadata": {
        "id": "6bbe388leofB"
      },
      "execution_count": null,
      "outputs": []
    },
    {
      "cell_type": "markdown",
      "source": [
        "Traning Loss and Accuracy Plot"
      ],
      "metadata": {
        "id": "1e4ZnvwkhkWJ"
      }
    },
    {
      "cell_type": "code",
      "source": [
        "import matplotlib.pyplot as plt\n",
        "\n",
        "fig, ax = plt.subplots(1, 2, figsize=(12, 4))\n",
        "\n",
        "ax[0].plot(history.epoch, history.history[\"loss\"], label=\"Train Loss\", color='blue')\n",
        "ax[0].plot(history.epoch, history.history[\"val_loss\"], label=\"Validation Loss\", color='orange')\n",
        "ax[0].set_title(\"Loss Over Epochs\")\n",
        "ax[0].set_xlabel(\"Epoch\")\n",
        "ax[0].set_ylabel(\"Loss\")\n",
        "ax[0].legend()\n",
        "ax[0].grid(True)\n",
        "\n",
        "ax[1].plot(history.epoch, history.history[\"accuracy\"], label=\"Train Accuracy\", color='green')\n",
        "ax[1].plot(history.epoch, history.history[\"val_accuracy\"], label=\"Validation Accuracy\", color='red')\n",
        "ax[1].set_title(\"Accuracy Over Epochs\")\n",
        "ax[1].set_xlabel(\"Epoch\")\n",
        "ax[1].set_ylabel(\"Accuracy\")\n",
        "ax[1].legend()\n",
        "ax[1].grid(True)\n",
        "\n",
        "fig.suptitle(\"Training Progress: Loss and Accuracy\", fontsize=16)\n",
        "\n",
        "plt.tight_layout(rect=[0, 0.03, 1, 0.95])\n",
        "\n",
        "plt.show()\n"
      ],
      "metadata": {
        "id": "WmwabJ2xho_S"
      },
      "execution_count": null,
      "outputs": []
    },
    {
      "cell_type": "markdown",
      "source": [
        "Save Model Weights"
      ],
      "metadata": {
        "id": "lJ4DpCmFervi"
      }
    },
    {
      "cell_type": "code",
      "source": [
        "model.save_weights('model.weights.h5')"
      ],
      "metadata": {
        "id": "hzVizVF5etXi"
      },
      "execution_count": null,
      "outputs": []
    }
  ]
}